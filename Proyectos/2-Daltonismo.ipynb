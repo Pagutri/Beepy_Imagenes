{
 "cells": [
  {
   "cell_type": "markdown",
   "metadata": {},
   "source": [
    "# Proyecto 2\n",
    "\n",
    "## Tipos de daltonismo\n",
    "\n",
    "Nuestros ojos también funcionan con RGB. En la retina tenemos tres tipos de células o conos que detectan los colores. A grandes rasgos, la escasez de células de uno o varios de los tres tipos es lo que provoca los diversos tipos de daltonismo.\n",
    "\n",
    "Para este proyecto, escribe un código que simule los tres pincipales tipos de daltonismo. Puedes investigar y utilizar funciones ya existentes en Python."
   ]
  },
  {
   "cell_type": "code",
   "execution_count": null,
   "metadata": {},
   "outputs": [],
   "source": []
  }
 ],
 "metadata": {
  "kernelspec": {
   "display_name": "Python 3.7.3 ('base')",
   "language": "python",
   "name": "python373jvsc74a57bd050f195ff40a754608008c7bf3d367f12800a5f8b62a282308fa21a31efc86d65"
  },
  "language_info": {
   "codemirror_mode": {
    "name": "ipython",
    "version": 3
   },
   "file_extension": ".py",
   "mimetype": "text/x-python",
   "name": "python",
   "nbconvert_exporter": "python",
   "pygments_lexer": "ipython3",
   "version": "3.7.3"
  }
 },
 "nbformat": 4,
 "nbformat_minor": 2
}
